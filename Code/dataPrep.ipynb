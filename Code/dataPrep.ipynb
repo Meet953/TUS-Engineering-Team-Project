{
 "cells": [
  {
   "cell_type": "code",
   "execution_count": 1,
   "id": "00eba951",
   "metadata": {},
   "outputs": [],
   "source": [
    "import pandas as pd\n",
    "import numpy as np\n",
    "import os\n",
    "import datetime\n",
    "\n",
    "import IPython\n",
    "import IPython.display"
   ]
  },
  {
   "cell_type": "markdown",
   "id": "918b0e0d",
   "metadata": {},
   "source": [
    "stat_path = input(\"Enter path to daily detailed statistics: \")"
   ]
  },
  {
   "cell_type": "markdown",
   "id": "1dcc3c31",
   "metadata": {},
   "source": [
    "lab_path = input(\"Enter path to daily lab testing figures:\")"
   ]
  },
  {
   "cell_type": "markdown",
   "id": "94a0d73d",
   "metadata": {},
   "source": [
    "vacc_path = input(\"Enter path to daily vaccination figures\")"
   ]
  },
  {
   "cell_type": "markdown",
   "id": "cedb0aad",
   "metadata": {},
   "source": [
    "boost_path = input(\"Enter path to daily booster figures: \")"
   ]
  },
  {
   "cell_type": "code",
   "execution_count": 2,
   "id": "bbca4be2",
   "metadata": {},
   "outputs": [
    {
     "name": "stdout",
     "output_type": "stream",
     "text": [
      "Enter path to Our World in data file: /Users/simonmclain/Documents/Documents/Software Development with AI/Semister 4/Engineering Team Project/TUS-Engineering-Team-Project/Data\n"
     ]
    }
   ],
   "source": [
    "owd_path = input(\"Enter path to Our World in data file: \")"
   ]
  },
  {
   "cell_type": "code",
   "execution_count": 3,
   "id": "f3a5f968",
   "metadata": {},
   "outputs": [],
   "source": [
    "filename = '/owid-covid-data.csv'"
   ]
  },
  {
   "cell_type": "code",
   "execution_count": 4,
   "id": "8582eaa0",
   "metadata": {},
   "outputs": [],
   "source": [
    "path = owd_path + filename"
   ]
  },
  {
   "cell_type": "code",
   "execution_count": 5,
   "id": "aec1b0e1",
   "metadata": {},
   "outputs": [],
   "source": [
    "df = pd.read_csv(path)"
   ]
  },
  {
   "cell_type": "code",
   "execution_count": 6,
   "id": "81995889",
   "metadata": {},
   "outputs": [],
   "source": [
    "#df.location.unique()"
   ]
  },
  {
   "cell_type": "code",
   "execution_count": 7,
   "id": "0b0f5ae7",
   "metadata": {},
   "outputs": [],
   "source": [
    "df_irl = df.location.isin(['Ireland'])"
   ]
  },
  {
   "cell_type": "code",
   "execution_count": 8,
   "id": "3e67b048",
   "metadata": {},
   "outputs": [],
   "source": [
    "df = df[df_irl]"
   ]
  },
  {
   "cell_type": "code",
   "execution_count": 9,
   "id": "33f0d103",
   "metadata": {},
   "outputs": [
    {
     "data": {
      "text/plain": [
       "(717, 67)"
      ]
     },
     "execution_count": 9,
     "metadata": {},
     "output_type": "execute_result"
    }
   ],
   "source": [
    "df.shape"
   ]
  },
  {
   "cell_type": "code",
   "execution_count": 10,
   "id": "4990f796",
   "metadata": {},
   "outputs": [
    {
     "data": {
      "text/plain": [
       "Index(['iso_code', 'continent', 'location', 'date', 'total_cases', 'new_cases',\n",
       "       'new_cases_smoothed', 'total_deaths', 'new_deaths',\n",
       "       'new_deaths_smoothed', 'total_cases_per_million',\n",
       "       'new_cases_per_million', 'new_cases_smoothed_per_million',\n",
       "       'total_deaths_per_million', 'new_deaths_per_million',\n",
       "       'new_deaths_smoothed_per_million', 'reproduction_rate', 'icu_patients',\n",
       "       'icu_patients_per_million', 'hosp_patients',\n",
       "       'hosp_patients_per_million', 'weekly_icu_admissions',\n",
       "       'weekly_icu_admissions_per_million', 'weekly_hosp_admissions',\n",
       "       'weekly_hosp_admissions_per_million', 'new_tests', 'total_tests',\n",
       "       'total_tests_per_thousand', 'new_tests_per_thousand',\n",
       "       'new_tests_smoothed', 'new_tests_smoothed_per_thousand',\n",
       "       'positive_rate', 'tests_per_case', 'tests_units', 'total_vaccinations',\n",
       "       'people_vaccinated', 'people_fully_vaccinated', 'total_boosters',\n",
       "       'new_vaccinations', 'new_vaccinations_smoothed',\n",
       "       'total_vaccinations_per_hundred', 'people_vaccinated_per_hundred',\n",
       "       'people_fully_vaccinated_per_hundred', 'total_boosters_per_hundred',\n",
       "       'new_vaccinations_smoothed_per_million',\n",
       "       'new_people_vaccinated_smoothed',\n",
       "       'new_people_vaccinated_smoothed_per_hundred', 'stringency_index',\n",
       "       'population', 'population_density', 'median_age', 'aged_65_older',\n",
       "       'aged_70_older', 'gdp_per_capita', 'extreme_poverty',\n",
       "       'cardiovasc_death_rate', 'diabetes_prevalence', 'female_smokers',\n",
       "       'male_smokers', 'handwashing_facilities', 'hospital_beds_per_thousand',\n",
       "       'life_expectancy', 'human_development_index',\n",
       "       'excess_mortality_cumulative_absolute', 'excess_mortality_cumulative',\n",
       "       'excess_mortality', 'excess_mortality_cumulative_per_million'],\n",
       "      dtype='object')"
      ]
     },
     "execution_count": 10,
     "metadata": {},
     "output_type": "execute_result"
    }
   ],
   "source": [
    "df.columns"
   ]
  },
  {
   "cell_type": "code",
   "execution_count": 11,
   "id": "eb7bd411",
   "metadata": {},
   "outputs": [],
   "source": [
    "df.reset_index(inplace=True)"
   ]
  },
  {
   "cell_type": "code",
   "execution_count": 12,
   "id": "8fbfc5df",
   "metadata": {},
   "outputs": [],
   "source": [
    "df.drop(columns=['iso_code', 'continent','weekly_icu_admissions',\n",
    "       'weekly_icu_admissions_per_million', 'weekly_hosp_admissions',\n",
    "       'weekly_hosp_admissions_per_million', 'location','tests_units','handwashing_facilities'], inplace=True)"
   ]
  },
  {
   "cell_type": "code",
   "execution_count": 13,
   "id": "480da8c4",
   "metadata": {},
   "outputs": [],
   "source": [
    "df.drop(columns=['index'], inplace=True)"
   ]
  },
  {
   "cell_type": "code",
   "execution_count": 14,
   "id": "550a2f45",
   "metadata": {},
   "outputs": [
    {
     "data": {
      "text/html": [
       "<div>\n",
       "<style scoped>\n",
       "    .dataframe tbody tr th:only-of-type {\n",
       "        vertical-align: middle;\n",
       "    }\n",
       "\n",
       "    .dataframe tbody tr th {\n",
       "        vertical-align: top;\n",
       "    }\n",
       "\n",
       "    .dataframe thead th {\n",
       "        text-align: right;\n",
       "    }\n",
       "</style>\n",
       "<table border=\"1\" class=\"dataframe\">\n",
       "  <thead>\n",
       "    <tr style=\"text-align: right;\">\n",
       "      <th></th>\n",
       "      <th>date</th>\n",
       "      <th>total_cases</th>\n",
       "      <th>new_cases</th>\n",
       "      <th>new_cases_smoothed</th>\n",
       "      <th>total_deaths</th>\n",
       "      <th>new_deaths</th>\n",
       "      <th>new_deaths_smoothed</th>\n",
       "      <th>total_cases_per_million</th>\n",
       "      <th>new_cases_per_million</th>\n",
       "      <th>new_cases_smoothed_per_million</th>\n",
       "      <th>...</th>\n",
       "      <th>diabetes_prevalence</th>\n",
       "      <th>female_smokers</th>\n",
       "      <th>male_smokers</th>\n",
       "      <th>hospital_beds_per_thousand</th>\n",
       "      <th>life_expectancy</th>\n",
       "      <th>human_development_index</th>\n",
       "      <th>excess_mortality_cumulative_absolute</th>\n",
       "      <th>excess_mortality_cumulative</th>\n",
       "      <th>excess_mortality</th>\n",
       "      <th>excess_mortality_cumulative_per_million</th>\n",
       "    </tr>\n",
       "  </thead>\n",
       "  <tbody>\n",
       "    <tr>\n",
       "      <th>0</th>\n",
       "      <td>29/02/2020</td>\n",
       "      <td>1.0</td>\n",
       "      <td>1.0</td>\n",
       "      <td>NaN</td>\n",
       "      <td>NaN</td>\n",
       "      <td>NaN</td>\n",
       "      <td>NaN</td>\n",
       "      <td>0.201</td>\n",
       "      <td>0.201</td>\n",
       "      <td>NaN</td>\n",
       "      <td>...</td>\n",
       "      <td>3.28</td>\n",
       "      <td>23.0</td>\n",
       "      <td>25.7</td>\n",
       "      <td>2.96</td>\n",
       "      <td>82.3</td>\n",
       "      <td>0.955</td>\n",
       "      <td>-428.2</td>\n",
       "      <td>-7.1</td>\n",
       "      <td>-4.43</td>\n",
       "      <td>-85.933825</td>\n",
       "    </tr>\n",
       "    <tr>\n",
       "      <th>1</th>\n",
       "      <td>01/03/2020</td>\n",
       "      <td>1.0</td>\n",
       "      <td>0.0</td>\n",
       "      <td>NaN</td>\n",
       "      <td>NaN</td>\n",
       "      <td>NaN</td>\n",
       "      <td>NaN</td>\n",
       "      <td>0.201</td>\n",
       "      <td>0.000</td>\n",
       "      <td>NaN</td>\n",
       "      <td>...</td>\n",
       "      <td>3.28</td>\n",
       "      <td>23.0</td>\n",
       "      <td>25.7</td>\n",
       "      <td>2.96</td>\n",
       "      <td>82.3</td>\n",
       "      <td>0.955</td>\n",
       "      <td>NaN</td>\n",
       "      <td>NaN</td>\n",
       "      <td>NaN</td>\n",
       "      <td>NaN</td>\n",
       "    </tr>\n",
       "    <tr>\n",
       "      <th>2</th>\n",
       "      <td>02/03/2020</td>\n",
       "      <td>1.0</td>\n",
       "      <td>0.0</td>\n",
       "      <td>NaN</td>\n",
       "      <td>NaN</td>\n",
       "      <td>NaN</td>\n",
       "      <td>NaN</td>\n",
       "      <td>0.201</td>\n",
       "      <td>0.000</td>\n",
       "      <td>NaN</td>\n",
       "      <td>...</td>\n",
       "      <td>3.28</td>\n",
       "      <td>23.0</td>\n",
       "      <td>25.7</td>\n",
       "      <td>2.96</td>\n",
       "      <td>82.3</td>\n",
       "      <td>0.955</td>\n",
       "      <td>NaN</td>\n",
       "      <td>NaN</td>\n",
       "      <td>NaN</td>\n",
       "      <td>NaN</td>\n",
       "    </tr>\n",
       "    <tr>\n",
       "      <th>3</th>\n",
       "      <td>03/03/2020</td>\n",
       "      <td>2.0</td>\n",
       "      <td>1.0</td>\n",
       "      <td>NaN</td>\n",
       "      <td>NaN</td>\n",
       "      <td>NaN</td>\n",
       "      <td>NaN</td>\n",
       "      <td>0.401</td>\n",
       "      <td>0.201</td>\n",
       "      <td>NaN</td>\n",
       "      <td>...</td>\n",
       "      <td>3.28</td>\n",
       "      <td>23.0</td>\n",
       "      <td>25.7</td>\n",
       "      <td>2.96</td>\n",
       "      <td>82.3</td>\n",
       "      <td>0.955</td>\n",
       "      <td>NaN</td>\n",
       "      <td>NaN</td>\n",
       "      <td>NaN</td>\n",
       "      <td>NaN</td>\n",
       "    </tr>\n",
       "    <tr>\n",
       "      <th>4</th>\n",
       "      <td>04/03/2020</td>\n",
       "      <td>6.0</td>\n",
       "      <td>4.0</td>\n",
       "      <td>NaN</td>\n",
       "      <td>NaN</td>\n",
       "      <td>NaN</td>\n",
       "      <td>NaN</td>\n",
       "      <td>1.204</td>\n",
       "      <td>0.803</td>\n",
       "      <td>NaN</td>\n",
       "      <td>...</td>\n",
       "      <td>3.28</td>\n",
       "      <td>23.0</td>\n",
       "      <td>25.7</td>\n",
       "      <td>2.96</td>\n",
       "      <td>82.3</td>\n",
       "      <td>0.955</td>\n",
       "      <td>NaN</td>\n",
       "      <td>NaN</td>\n",
       "      <td>NaN</td>\n",
       "      <td>NaN</td>\n",
       "    </tr>\n",
       "  </tbody>\n",
       "</table>\n",
       "<p>5 rows × 58 columns</p>\n",
       "</div>"
      ],
      "text/plain": [
       "         date  total_cases  new_cases  new_cases_smoothed  total_deaths  \\\n",
       "0  29/02/2020          1.0        1.0                 NaN           NaN   \n",
       "1  01/03/2020          1.0        0.0                 NaN           NaN   \n",
       "2  02/03/2020          1.0        0.0                 NaN           NaN   \n",
       "3  03/03/2020          2.0        1.0                 NaN           NaN   \n",
       "4  04/03/2020          6.0        4.0                 NaN           NaN   \n",
       "\n",
       "   new_deaths  new_deaths_smoothed  total_cases_per_million  \\\n",
       "0         NaN                  NaN                    0.201   \n",
       "1         NaN                  NaN                    0.201   \n",
       "2         NaN                  NaN                    0.201   \n",
       "3         NaN                  NaN                    0.401   \n",
       "4         NaN                  NaN                    1.204   \n",
       "\n",
       "   new_cases_per_million  new_cases_smoothed_per_million  ...  \\\n",
       "0                  0.201                             NaN  ...   \n",
       "1                  0.000                             NaN  ...   \n",
       "2                  0.000                             NaN  ...   \n",
       "3                  0.201                             NaN  ...   \n",
       "4                  0.803                             NaN  ...   \n",
       "\n",
       "   diabetes_prevalence  female_smokers  male_smokers  \\\n",
       "0                 3.28            23.0          25.7   \n",
       "1                 3.28            23.0          25.7   \n",
       "2                 3.28            23.0          25.7   \n",
       "3                 3.28            23.0          25.7   \n",
       "4                 3.28            23.0          25.7   \n",
       "\n",
       "   hospital_beds_per_thousand  life_expectancy  human_development_index  \\\n",
       "0                        2.96             82.3                    0.955   \n",
       "1                        2.96             82.3                    0.955   \n",
       "2                        2.96             82.3                    0.955   \n",
       "3                        2.96             82.3                    0.955   \n",
       "4                        2.96             82.3                    0.955   \n",
       "\n",
       "   excess_mortality_cumulative_absolute  excess_mortality_cumulative  \\\n",
       "0                                -428.2                         -7.1   \n",
       "1                                   NaN                          NaN   \n",
       "2                                   NaN                          NaN   \n",
       "3                                   NaN                          NaN   \n",
       "4                                   NaN                          NaN   \n",
       "\n",
       "   excess_mortality  excess_mortality_cumulative_per_million  \n",
       "0             -4.43                               -85.933825  \n",
       "1               NaN                                      NaN  \n",
       "2               NaN                                      NaN  \n",
       "3               NaN                                      NaN  \n",
       "4               NaN                                      NaN  \n",
       "\n",
       "[5 rows x 58 columns]"
      ]
     },
     "execution_count": 14,
     "metadata": {},
     "output_type": "execute_result"
    }
   ],
   "source": [
    "df.head()"
   ]
  },
  {
   "cell_type": "code",
   "execution_count": 15,
   "id": "475afb60",
   "metadata": {},
   "outputs": [],
   "source": [
    "df.drop(df.index[:10], inplace=True)"
   ]
  },
  {
   "cell_type": "code",
   "execution_count": 17,
   "id": "521c13b4",
   "metadata": {},
   "outputs": [],
   "source": [
    "df=df.fillna(0)"
   ]
  },
  {
   "cell_type": "code",
   "execution_count": 19,
   "id": "f36dbf6f",
   "metadata": {},
   "outputs": [
    {
     "data": {
      "text/plain": [
       "(707, 58)"
      ]
     },
     "execution_count": 19,
     "metadata": {},
     "output_type": "execute_result"
    }
   ],
   "source": [
    "df.shape"
   ]
  },
  {
   "cell_type": "code",
   "execution_count": null,
   "id": "0088f7f9",
   "metadata": {},
   "outputs": [],
   "source": []
  }
 ],
 "metadata": {
  "kernelspec": {
   "display_name": "Python 3",
   "language": "python",
   "name": "python3"
  },
  "language_info": {
   "codemirror_mode": {
    "name": "ipython",
    "version": 3
   },
   "file_extension": ".py",
   "mimetype": "text/x-python",
   "name": "python",
   "nbconvert_exporter": "python",
   "pygments_lexer": "ipython3",
   "version": "3.8.6"
  }
 },
 "nbformat": 4,
 "nbformat_minor": 5
}
