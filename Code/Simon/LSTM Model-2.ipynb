{
 "cells": [
  {
   "cell_type": "code",
   "execution_count": 18,
   "id": "e79406f7",
   "metadata": {},
   "outputs": [],
   "source": [
    "import pandas as pd\n",
    "import numpy as np\n",
    "import matplotlib.pyplot as plt\n",
    "import plotly.express as px \n",
    "from sklearn import metrics \n",
    "from sklearn import preprocessing\n",
    "from sklearn.preprocessing import MinMaxScaler, StandardScaler\n",
    "import tensorflow as tf "
   ]
  },
  {
   "cell_type": "code",
   "execution_count": 19,
   "id": "4342fd76",
   "metadata": {},
   "outputs": [],
   "source": [
    "df = pd.read_excel(\"preparedData.xlsx\")"
   ]
  },
  {
   "cell_type": "code",
   "execution_count": 20,
   "id": "8ed981ef",
   "metadata": {},
   "outputs": [
    {
     "data": {
      "text/plain": [
       "(699, 50)"
      ]
     },
     "execution_count": 20,
     "metadata": {},
     "output_type": "execute_result"
    }
   ],
   "source": [
    "df.shape"
   ]
  },
  {
   "cell_type": "code",
   "execution_count": 21,
   "id": "457857f0",
   "metadata": {},
   "outputs": [],
   "source": [
    "df.drop(columns=['new_tests','tests_per_case', 'total_vaccinations', 'people_vaccinated',\n",
    "       'people_fully_vaccinated', 'total_boosters', 'new_vaccinations',\n",
    "       'stringency_index', 'population', 'population_density', 'median_age',\n",
    "       'aged_65_older', 'aged_70_older', 'gdp_per_capita', 'extreme_poverty',\n",
    "       'cardiovasc_death_rate', 'diabetes_prevalence', 'female_smokers',\n",
    "       'male_smokers', 'life_expectancy', 'human_development_index',\n",
    "       'covid: (Ireland)', 'COVID-19 testing: (Ireland)',\n",
    "       'COVID-19 rapid antigen test: (Ireland)',\n",
    "       'Health Service Executive: (Ireland)', 'Vaccination: (Ireland)',\n",
    "       'book covid test: (Ireland)_x', 'how many covid cases today: (Ireland)',\n",
    "       'pcr covid test: (Ireland)', 'close contact covid: (Ireland)',\n",
    "       'book a covid test: (Ireland)', 'vaccination centre: (Ireland)',\n",
    "       'pharmacy near me: (Ireland)',\n",
    "       'Treatment and management of COVID-19: (Ireland)',\n",
    "       'Hand sanitizer: (Ireland)', 'Face mask: (Ireland)',\n",
    "       'book covid test: (Ireland)_y', 'covid test dublin: (Ireland)',\n",
    "       'covid test centre: (Ireland)', 'hse covid vaccine: (Ireland)',\n",
    "       'hse vaccine portal: (Ireland)', 'hse portal vaccine: (Ireland)',\n",
    "       'pcr test hse: (Ireland)', 'hse covid test: (Ireland)',\n",
    "       'hse vaccine registration: (Ireland)',\n",
    "       'how long will it take to vaccinate ireland: (Ireland)'], inplace=True)"
   ]
  },
  {
   "cell_type": "code",
   "execution_count": 22,
   "id": "86d0b1b8",
   "metadata": {},
   "outputs": [
    {
     "data": {
      "text/html": [
       "<div>\n",
       "<style scoped>\n",
       "    .dataframe tbody tr th:only-of-type {\n",
       "        vertical-align: middle;\n",
       "    }\n",
       "\n",
       "    .dataframe tbody tr th {\n",
       "        vertical-align: top;\n",
       "    }\n",
       "\n",
       "    .dataframe thead th {\n",
       "        text-align: right;\n",
       "    }\n",
       "</style>\n",
       "<table border=\"1\" class=\"dataframe\">\n",
       "  <thead>\n",
       "    <tr style=\"text-align: right;\">\n",
       "      <th></th>\n",
       "      <th>count</th>\n",
       "      <th>mean</th>\n",
       "      <th>std</th>\n",
       "      <th>min</th>\n",
       "      <th>25%</th>\n",
       "      <th>50%</th>\n",
       "      <th>75%</th>\n",
       "      <th>max</th>\n",
       "    </tr>\n",
       "  </thead>\n",
       "  <tbody>\n",
       "    <tr>\n",
       "      <th>new_cases_smoothed</th>\n",
       "      <td>699.0</td>\n",
       "      <td>1750.853462</td>\n",
       "      <td>3401.509976</td>\n",
       "      <td>6.571</td>\n",
       "      <td>285.7145</td>\n",
       "      <td>531.2860</td>\n",
       "      <td>1479.85750</td>\n",
       "      <td>23752.0000</td>\n",
       "    </tr>\n",
       "    <tr>\n",
       "      <th>reproduction_rate</th>\n",
       "      <td>699.0</td>\n",
       "      <td>1.079442</td>\n",
       "      <td>0.344792</td>\n",
       "      <td>0.450</td>\n",
       "      <td>0.8800</td>\n",
       "      <td>1.0300</td>\n",
       "      <td>1.25000</td>\n",
       "      <td>2.8400</td>\n",
       "    </tr>\n",
       "    <tr>\n",
       "      <th>positive_rate</th>\n",
       "      <td>699.0</td>\n",
       "      <td>0.077215</td>\n",
       "      <td>0.095944</td>\n",
       "      <td>0.000</td>\n",
       "      <td>0.0229</td>\n",
       "      <td>0.0403</td>\n",
       "      <td>0.08965</td>\n",
       "      <td>0.5523</td>\n",
       "    </tr>\n",
       "  </tbody>\n",
       "</table>\n",
       "</div>"
      ],
      "text/plain": [
       "                    count         mean          std    min       25%  \\\n",
       "new_cases_smoothed  699.0  1750.853462  3401.509976  6.571  285.7145   \n",
       "reproduction_rate   699.0     1.079442     0.344792  0.450    0.8800   \n",
       "positive_rate       699.0     0.077215     0.095944  0.000    0.0229   \n",
       "\n",
       "                         50%         75%         max  \n",
       "new_cases_smoothed  531.2860  1479.85750  23752.0000  \n",
       "reproduction_rate     1.0300     1.25000      2.8400  \n",
       "positive_rate         0.0403     0.08965      0.5523  "
      ]
     },
     "execution_count": 22,
     "metadata": {},
     "output_type": "execute_result"
    }
   ],
   "source": [
    "df.describe().transpose()"
   ]
  },
  {
   "cell_type": "code",
   "execution_count": 23,
   "id": "e6413aa3",
   "metadata": {},
   "outputs": [],
   "source": [
    "date_time = pd.to_datetime(df.pop('date'), format='%d-%m-%Y')"
   ]
  },
  {
   "cell_type": "code",
   "execution_count": 24,
   "id": "bbbf0c60",
   "metadata": {},
   "outputs": [
    {
     "data": {
      "text/plain": [
       "(699, 3)"
      ]
     },
     "execution_count": 24,
     "metadata": {},
     "output_type": "execute_result"
    }
   ],
   "source": [
    "df.shape"
   ]
  },
  {
   "cell_type": "code",
   "execution_count": 25,
   "id": "63ce55bf",
   "metadata": {},
   "outputs": [],
   "source": [
    "X_scaler = MinMaxScaler()\n",
    "Y_scaler = MinMaxScaler()"
   ]
  },
  {
   "cell_type": "code",
   "execution_count": 26,
   "id": "04834c7c",
   "metadata": {},
   "outputs": [],
   "source": [
    "X_data = X_scaler.fit_transform(df[['reproduction_rate','positive_rate']])"
   ]
  },
  {
   "cell_type": "code",
   "execution_count": 27,
   "id": "0cfe3e82",
   "metadata": {},
   "outputs": [],
   "source": [
    "Y_data = Y_scaler.fit_transform(df[['new_cases_smoothed']])"
   ]
  },
  {
   "cell_type": "code",
   "execution_count": 28,
   "id": "b87cdc04",
   "metadata": {},
   "outputs": [],
   "source": [
    "validate = df[['reproduction_rate','positive_rate','new_cases_smoothed']].tail(21)\n",
    "df.drop(df.tail(21).index,inplace=True)"
   ]
  },
  {
   "cell_type": "code",
   "execution_count": 29,
   "id": "6f718f3f",
   "metadata": {},
   "outputs": [],
   "source": [
    "def custom_ts_multi_data_prep(dataset, target, start, end, window, horizon):\n",
    "    X = []\n",
    "    y = []\n",
    "    start = start + window\n",
    "    if end is None:\n",
    "        end = len(dataset) - horizon\n",
    "    for i in range(start, end):\n",
    "        indices = range(i-window, i)\n",
    "        X.append(dataset[indices])\n",
    "        indicey = range(i+1, i+1+horizon)\n",
    "        y.append(target[indicey])\n",
    "    return np.array(X), np.array(y)"
   ]
  },
  {
   "cell_type": "code",
   "execution_count": 30,
   "id": "03675683",
   "metadata": {},
   "outputs": [],
   "source": [
    "hist_window = 21\n",
    "horizon = 21\n",
    "TRAIN_SPLIT = 600\n",
    "x_train, y_train = custom_ts_multi_data_prep(X_data, Y_data, 0, TRAIN_SPLIT, hist_window, horizon)\n",
    "x_vali, y_vali = custom_ts_multi_data_prep(X_data, Y_data, TRAIN_SPLIT, None, hist_window, horizon)"
   ]
  },
  {
   "cell_type": "code",
   "execution_count": 31,
   "id": "58682451",
   "metadata": {},
   "outputs": [
    {
     "name": "stdout",
     "output_type": "stream",
     "text": [
      "Multiple window of past history\n",
      "\n",
      "[[0.86192469 0.        ]\n",
      " [0.89539749 0.        ]\n",
      " [0.94142259 0.        ]\n",
      " [0.9748954  0.        ]\n",
      " [1.         0.        ]\n",
      " [0.92050209 0.        ]\n",
      " [0.85355649 0.        ]\n",
      " [0.81171548 0.        ]\n",
      " [0.76569038 0.        ]\n",
      " [0.71966527 0.        ]\n",
      " [0.66945607 0.21166033]\n",
      " [0.61506276 0.17164584]\n",
      " [0.59414226 0.17617237]\n",
      " [0.56903766 0.1913815 ]\n",
      " [0.53974895 0.19264892]\n",
      " [0.51464435 0.21727322]\n",
      " [0.49372385 0.22650733]\n",
      " [0.46861925 0.22035126]\n",
      " [0.45188285 0.26127105]\n",
      " [0.45188285 0.30001811]\n",
      " [0.45606695 0.31377874]]\n",
      "\n",
      " Target horizon\n",
      "\n",
      "[[0.014487  ]\n",
      " [0.01460736]\n",
      " [0.01552783]\n",
      " [0.01611742]\n",
      " [0.02268108]\n",
      " [0.02573729]\n",
      " [0.02776475]\n",
      " [0.03150682]\n",
      " [0.03443673]\n",
      " [0.03866609]\n",
      " [0.04001372]\n",
      " [0.03516466]\n",
      " [0.03479769]\n",
      " [0.03338992]\n",
      " [0.02983433]\n",
      " [0.02716312]\n",
      " [0.02453407]\n",
      " [0.02580951]\n",
      " [0.02501534]\n",
      " [0.02260288]\n",
      " [0.02385423]]\n"
     ]
    }
   ],
   "source": [
    "print ('Multiple window of past history\\n')\n",
    "print(x_train[0])\n",
    "print ('\\n Target horizon\\n')\n",
    "print (y_train[0])"
   ]
  },
  {
   "cell_type": "code",
   "execution_count": 32,
   "id": "3dab7d5b",
   "metadata": {},
   "outputs": [],
   "source": [
    "batch_size = 256\n",
    "buffer_size = 150\n",
    "train_data = tf.data.Dataset.from_tensor_slices((x_train, y_train))\n",
    "train_data = train_data.cache().shuffle(buffer_size).batch(batch_size).repeat()\n",
    "val_data = tf.data.Dataset.from_tensor_slices((x_vali, y_vali))\n",
    "val_data = val_data.batch(batch_size).repeat() "
   ]
  },
  {
   "cell_type": "code",
   "execution_count": 33,
   "id": "8da966eb",
   "metadata": {},
   "outputs": [
    {
     "name": "stdout",
     "output_type": "stream",
     "text": [
      "Model: \"sequential_1\"\n",
      "_________________________________________________________________\n",
      " Layer (type)                Output Shape              Param #   \n",
      "=================================================================\n",
      " bidirectional_2 (Bidirectio  (None, 21, 400)          324800    \n",
      " nal)                                                            \n",
      "                                                                 \n",
      " dense_4 (Dense)             (None, 21, 20)            8020      \n",
      "                                                                 \n",
      " bidirectional_3 (Bidirectio  (None, 21, 500)          542000    \n",
      " nal)                                                            \n",
      "                                                                 \n",
      " dense_5 (Dense)             (None, 21, 20)            10020     \n",
      "                                                                 \n",
      " dense_6 (Dense)             (None, 21, 20)            420       \n",
      "                                                                 \n",
      " dropout_1 (Dropout)         (None, 21, 20)            0         \n",
      "                                                                 \n",
      " dense_7 (Dense)             (None, 21, 1)             21        \n",
      "                                                                 \n",
      "=================================================================\n",
      "Total params: 885,281\n",
      "Trainable params: 885,281\n",
      "Non-trainable params: 0\n",
      "_________________________________________________________________\n"
     ]
    }
   ],
   "source": [
    "lstm_model = tf.keras.models.Sequential([\n",
    "tf.keras.layers.Bidirectional(tf.keras.layers.LSTM(200, return_sequences=True), \n",
    "                            input_shape=x_train.shape[-2:]),\n",
    " tf.keras.layers.Dense(20, activation='sigmoid'),\n",
    " tf.keras.layers.Bidirectional(tf.keras.layers.LSTM(250, return_sequences=True)),\n",
    " tf.keras.layers.Dense(20, activation='sigmoid'),\n",
    " tf.keras.layers.Dense(20, activation='sigmoid'),\n",
    " tf.keras.layers.Dropout(0.25),\n",
    " tf.keras.layers.Dense(units=1),\n",
    "])\n",
    "lstm_model.compile(optimizer='adam', loss='mse')\n",
    "lstm_model.summary() "
   ]
  },
  {
   "cell_type": "code",
   "execution_count": 34,
   "id": "95348920",
   "metadata": {},
   "outputs": [
    {
     "name": "stdout",
     "output_type": "stream",
     "text": [
      "Epoch 1/150\n",
      "100/100 [==============================] - 14s 117ms/step - loss: 0.1012 - val_loss: 0.2377\n",
      "Epoch 2/150\n",
      "100/100 [==============================] - 11s 108ms/step - loss: 0.0425 - val_loss: 0.2365\n",
      "Epoch 3/150\n",
      "100/100 [==============================] - 11s 107ms/step - loss: 0.0238 - val_loss: 0.2354\n",
      "Epoch 4/150\n",
      "100/100 [==============================] - 11s 109ms/step - loss: 0.0146 - val_loss: 0.2343\n",
      "Epoch 5/150\n",
      "100/100 [==============================] - 11s 108ms/step - loss: 0.0100 - val_loss: 0.2341\n",
      "Epoch 6/150\n",
      "100/100 [==============================] - 11s 108ms/step - loss: 0.0074 - val_loss: 0.2335\n",
      "Epoch 7/150\n",
      "100/100 [==============================] - 11s 107ms/step - loss: 0.0060 - val_loss: 0.2332\n",
      "Epoch 8/150\n",
      "100/100 [==============================] - 11s 108ms/step - loss: 0.0050 - val_loss: 0.2328\n",
      "Epoch 9/150\n",
      "100/100 [==============================] - 11s 107ms/step - loss: 0.0043 - val_loss: 0.2327\n",
      "Epoch 10/150\n",
      "100/100 [==============================] - 11s 107ms/step - loss: 0.0039 - val_loss: 0.2328\n",
      "Epoch 11/150\n",
      "100/100 [==============================] - 11s 107ms/step - loss: 0.0035 - val_loss: 0.2330\n",
      "Epoch 12/150\n",
      "100/100 [==============================] - 11s 109ms/step - loss: 0.0033 - val_loss: 0.2324\n",
      "Epoch 13/150\n",
      "100/100 [==============================] - 11s 107ms/step - loss: 0.0030 - val_loss: 0.2330\n",
      "Epoch 14/150\n",
      "100/100 [==============================] - 11s 108ms/step - loss: 0.0029 - val_loss: 0.2331\n",
      "Epoch 15/150\n",
      "100/100 [==============================] - 11s 108ms/step - loss: 0.0027 - val_loss: 0.2329\n",
      "Epoch 16/150\n",
      "100/100 [==============================] - 11s 108ms/step - loss: 0.0026 - val_loss: 0.2334\n",
      "Epoch 17/150\n",
      "100/100 [==============================] - 11s 107ms/step - loss: 0.0025 - val_loss: 0.2326\n",
      "Epoch 18/150\n",
      "100/100 [==============================] - 11s 107ms/step - loss: 0.0024 - val_loss: 0.2329\n",
      "Epoch 19/150\n",
      "100/100 [==============================] - 11s 108ms/step - loss: 0.0024 - val_loss: 0.2334\n",
      "Epoch 20/150\n",
      "100/100 [==============================] - 11s 107ms/step - loss: 0.0023 - val_loss: 0.2330\n",
      "Epoch 21/150\n",
      "100/100 [==============================] - 11s 108ms/step - loss: 0.0023 - val_loss: 0.2324\n",
      "Epoch 22/150\n",
      "100/100 [==============================] - 11s 108ms/step - loss: 0.0022 - val_loss: 0.2330\n",
      "Epoch 22: early stopping\n"
     ]
    }
   ],
   "source": [
    "model_path = 'Bidirectional_LSTM_Multivariate.h5'\n",
    "early_stopings = tf.keras.callbacks.EarlyStopping(monitor='val_loss',\n",
    "                                                  min_delta=0, patience=10,\n",
    "                                                  verbose=1, mode='min')\n",
    "checkpoint =  tf.keras.callbacks.ModelCheckpoint(model_path,\n",
    "                                                 monitor='val_loss',\n",
    "                                                 save_best_only=True,\n",
    "                                                 mode='min', verbose=0)\n",
    "callbacks=[early_stopings,checkpoint] \n",
    "\n",
    "history = lstm_model.fit(train_data,epochs=150,steps_per_epoch=100\n",
    "                         ,validation_data=val_data,validation_steps=50,\n",
    "                         verbose=1,callbacks=callbacks)"
   ]
  },
  {
   "cell_type": "code",
   "execution_count": 35,
   "id": "509127e9",
   "metadata": {},
   "outputs": [
    {
     "data": {
      "image/png": "[encoded data removed]",
      "text/plain": [
       "<Figure size 1152x648 with 1 Axes>"
      ]
     },
     "metadata": {
      "needs_background": "light"
     },
     "output_type": "display_data"
    }
   ],
   "source": [
    "plt.figure(figsize=(16,9))\n",
    "plt.plot(history.history['loss'])\n",
    "plt.plot(history.history['val_loss'])\n",
    "plt.title('Model loss')\n",
    "plt.ylabel('loss')\n",
    "plt.xlabel('epoch')\n",
    "plt.legend(['train loss', 'validation loss'])\n",
    "plt.show()"
   ]
  },
  {
   "cell_type": "code",
   "execution_count": 36,
   "id": "c7b0baab",
   "metadata": {},
   "outputs": [
    {
     "ename": "ValueError",
     "evalue": "in user code:\n\n    File \"/Users/simonmclain/miniforge3/envs/tf24/lib/python3.8/site-packages/keras/engine/training.py\", line 1801, in predict_function  *\n        return step_function(self, iterator)\n    File \"/Users/simonmclain/miniforge3/envs/tf24/lib/python3.8/site-packages/keras/engine/training.py\", line 1790, in step_function  **\n        outputs = model.distribute_strategy.run(run_step, args=(data,))\n    File \"/Users/simonmclain/miniforge3/envs/tf24/lib/python3.8/site-packages/keras/engine/training.py\", line 1783, in run_step  **\n        outputs = model.predict_step(data)\n    File \"/Users/simonmclain/miniforge3/envs/tf24/lib/python3.8/site-packages/keras/engine/training.py\", line 1751, in predict_step\n        return self(x, training=False)\n    File \"/Users/simonmclain/miniforge3/envs/tf24/lib/python3.8/site-packages/keras/utils/traceback_utils.py\", line 67, in error_handler\n        raise e.with_traceback(filtered_tb) from None\n    File \"/Users/simonmclain/miniforge3/envs/tf24/lib/python3.8/site-packages/keras/engine/input_spec.py\", line 264, in assert_input_compatibility\n        raise ValueError(f'Input {input_index} of layer \"{layer_name}\" is '\n\n    ValueError: Input 0 of layer \"sequential_1\" is incompatible with the layer: expected shape=(None, 21, 2), found shape=(None, 7, 2)\n",
     "output_type": "error",
     "traceback": [
      "\u001b[0;31m---------------------------------------------------------------------------\u001b[0m",
      "\u001b[0;31mValueError\u001b[0m                                Traceback (most recent call last)",
      "\u001b[0;32m<ipython-input-36-a59d3e4d4f42>\u001b[0m in \u001b[0;36m<module>\u001b[0;34m\u001b[0m\n\u001b[1;32m      1\u001b[0m \u001b[0mdf_val\u001b[0m \u001b[0;34m=\u001b[0m \u001b[0mX_scaler\u001b[0m\u001b[0;34m.\u001b[0m\u001b[0mfit_transform\u001b[0m\u001b[0;34m(\u001b[0m\u001b[0mdf\u001b[0m\u001b[0;34m[\u001b[0m\u001b[0;34m[\u001b[0m\u001b[0;34m'reproduction_rate'\u001b[0m\u001b[0;34m,\u001b[0m\u001b[0;34m'positive_rate'\u001b[0m\u001b[0;34m]\u001b[0m\u001b[0;34m]\u001b[0m\u001b[0;34m.\u001b[0m\u001b[0mtail\u001b[0m\u001b[0;34m(\u001b[0m\u001b[0;36m7\u001b[0m\u001b[0;34m)\u001b[0m\u001b[0;34m)\u001b[0m\u001b[0;34m\u001b[0m\u001b[0;34m\u001b[0m\u001b[0m\n\u001b[1;32m      2\u001b[0m \u001b[0mval_rescaled\u001b[0m \u001b[0;34m=\u001b[0m \u001b[0mdf_val\u001b[0m\u001b[0;34m.\u001b[0m\u001b[0mreshape\u001b[0m\u001b[0;34m(\u001b[0m\u001b[0;36m1\u001b[0m\u001b[0;34m,\u001b[0m \u001b[0mdf_val\u001b[0m\u001b[0;34m.\u001b[0m\u001b[0mshape\u001b[0m\u001b[0;34m[\u001b[0m\u001b[0;36m0\u001b[0m\u001b[0;34m]\u001b[0m\u001b[0;34m,\u001b[0m \u001b[0mdf_val\u001b[0m\u001b[0;34m.\u001b[0m\u001b[0mshape\u001b[0m\u001b[0;34m[\u001b[0m\u001b[0;36m1\u001b[0m\u001b[0;34m]\u001b[0m\u001b[0;34m)\u001b[0m\u001b[0;34m\u001b[0m\u001b[0;34m\u001b[0m\u001b[0m\n\u001b[0;32m----> 3\u001b[0;31m \u001b[0mpred\u001b[0m \u001b[0;34m=\u001b[0m \u001b[0mlstm_model\u001b[0m\u001b[0;34m.\u001b[0m\u001b[0mpredict\u001b[0m\u001b[0;34m(\u001b[0m\u001b[0mval_rescaled\u001b[0m\u001b[0;34m)\u001b[0m\u001b[0;34m\u001b[0m\u001b[0;34m\u001b[0m\u001b[0m\n\u001b[0m\u001b[1;32m      4\u001b[0m \u001b[0mpred_Inverse\u001b[0m \u001b[0;34m=\u001b[0m \u001b[0mY_scaler\u001b[0m\u001b[0;34m.\u001b[0m\u001b[0minverse_transform\u001b[0m\u001b[0;34m(\u001b[0m\u001b[0mpred\u001b[0m\u001b[0;34m)\u001b[0m\u001b[0;34m\u001b[0m\u001b[0;34m\u001b[0m\u001b[0m\n\u001b[1;32m      5\u001b[0m \u001b[0mpred_Inverse\u001b[0m\u001b[0;34m\u001b[0m\u001b[0;34m\u001b[0m\u001b[0m\n",
      "\u001b[0;32m~/miniforge3/envs/tf24/lib/python3.8/site-packages/keras/utils/traceback_utils.py\u001b[0m in \u001b[0;36merror_handler\u001b[0;34m(*args, **kwargs)\u001b[0m\n\u001b[1;32m     65\u001b[0m     \u001b[0;32mexcept\u001b[0m \u001b[0mException\u001b[0m \u001b[0;32mas\u001b[0m \u001b[0me\u001b[0m\u001b[0;34m:\u001b[0m  \u001b[0;31m# pylint: disable=broad-except\u001b[0m\u001b[0;34m\u001b[0m\u001b[0;34m\u001b[0m\u001b[0m\n\u001b[1;32m     66\u001b[0m       \u001b[0mfiltered_tb\u001b[0m \u001b[0;34m=\u001b[0m \u001b[0m_process_traceback_frames\u001b[0m\u001b[0;34m(\u001b[0m\u001b[0me\u001b[0m\u001b[0;34m.\u001b[0m\u001b[0m__traceback__\u001b[0m\u001b[0;34m)\u001b[0m\u001b[0;34m\u001b[0m\u001b[0;34m\u001b[0m\u001b[0m\n\u001b[0;32m---> 67\u001b[0;31m       \u001b[0;32mraise\u001b[0m \u001b[0me\u001b[0m\u001b[0;34m.\u001b[0m\u001b[0mwith_traceback\u001b[0m\u001b[0;34m(\u001b[0m\u001b[0mfiltered_tb\u001b[0m\u001b[0;34m)\u001b[0m \u001b[0;32mfrom\u001b[0m \u001b[0;32mNone\u001b[0m\u001b[0;34m\u001b[0m\u001b[0;34m\u001b[0m\u001b[0m\n\u001b[0m\u001b[1;32m     68\u001b[0m     \u001b[0;32mfinally\u001b[0m\u001b[0;34m:\u001b[0m\u001b[0;34m\u001b[0m\u001b[0;34m\u001b[0m\u001b[0m\n\u001b[1;32m     69\u001b[0m       \u001b[0;32mdel\u001b[0m \u001b[0mfiltered_tb\u001b[0m\u001b[0;34m\u001b[0m\u001b[0;34m\u001b[0m\u001b[0m\n",
      "\u001b[0;32m~/miniforge3/envs/tf24/lib/python3.8/site-packages/tensorflow/python/framework/func_graph.py\u001b[0m in \u001b[0;36mautograph_handler\u001b[0;34m(*args, **kwargs)\u001b[0m\n\u001b[1;32m   1145\u001b[0m           \u001b[0;32mexcept\u001b[0m \u001b[0mException\u001b[0m \u001b[0;32mas\u001b[0m \u001b[0me\u001b[0m\u001b[0;34m:\u001b[0m  \u001b[0;31m# pylint:disable=broad-except\u001b[0m\u001b[0;34m\u001b[0m\u001b[0;34m\u001b[0m\u001b[0m\n\u001b[1;32m   1146\u001b[0m             \u001b[0;32mif\u001b[0m \u001b[0mhasattr\u001b[0m\u001b[0;34m(\u001b[0m\u001b[0me\u001b[0m\u001b[0;34m,\u001b[0m \u001b[0;34m\"ag_error_metadata\"\u001b[0m\u001b[0;34m)\u001b[0m\u001b[0;34m:\u001b[0m\u001b[0;34m\u001b[0m\u001b[0;34m\u001b[0m\u001b[0m\n\u001b[0;32m-> 1147\u001b[0;31m               \u001b[0;32mraise\u001b[0m \u001b[0me\u001b[0m\u001b[0;34m.\u001b[0m\u001b[0mag_error_metadata\u001b[0m\u001b[0;34m.\u001b[0m\u001b[0mto_exception\u001b[0m\u001b[0;34m(\u001b[0m\u001b[0me\u001b[0m\u001b[0;34m)\u001b[0m\u001b[0;34m\u001b[0m\u001b[0;34m\u001b[0m\u001b[0m\n\u001b[0m\u001b[1;32m   1148\u001b[0m             \u001b[0;32melse\u001b[0m\u001b[0;34m:\u001b[0m\u001b[0;34m\u001b[0m\u001b[0;34m\u001b[0m\u001b[0m\n\u001b[1;32m   1149\u001b[0m               \u001b[0;32mraise\u001b[0m\u001b[0;34m\u001b[0m\u001b[0;34m\u001b[0m\u001b[0m\n",
      "\u001b[0;31mValueError\u001b[0m: in user code:\n\n    File \"/Users/simonmclain/miniforge3/envs/tf24/lib/python3.8/site-packages/keras/engine/training.py\", line 1801, in predict_function  *\n        return step_function(self, iterator)\n    File \"/Users/simonmclain/miniforge3/envs/tf24/lib/python3.8/site-packages/keras/engine/training.py\", line 1790, in step_function  **\n        outputs = model.distribute_strategy.run(run_step, args=(data,))\n    File \"/Users/simonmclain/miniforge3/envs/tf24/lib/python3.8/site-packages/keras/engine/training.py\", line 1783, in run_step  **\n        outputs = model.predict_step(data)\n    File \"/Users/simonmclain/miniforge3/envs/tf24/lib/python3.8/site-packages/keras/engine/training.py\", line 1751, in predict_step\n        return self(x, training=False)\n    File \"/Users/simonmclain/miniforge3/envs/tf24/lib/python3.8/site-packages/keras/utils/traceback_utils.py\", line 67, in error_handler\n        raise e.with_traceback(filtered_tb) from None\n    File \"/Users/simonmclain/miniforge3/envs/tf24/lib/python3.8/site-packages/keras/engine/input_spec.py\", line 264, in assert_input_compatibility\n        raise ValueError(f'Input {input_index} of layer \"{layer_name}\" is '\n\n    ValueError: Input 0 of layer \"sequential_1\" is incompatible with the layer: expected shape=(None, 21, 2), found shape=(None, 7, 2)\n"
     ]
    }
   ],
   "source": [
    "df_val = X_scaler.fit_transform(df[['reproduction_rate','positive_rate']].tail(7))\n",
    "val_rescaled = df_val.reshape(1, df_val.shape[0], df_val.shape[1])\n",
    "pred = lstm_model.predict(val_rescaled)\n",
    "pred_Inverse = Y_scaler.inverse_transform(pred)\n",
    "pred_Inverse"
   ]
  },
  {
   "cell_type": "code",
   "execution_count": null,
   "id": "3cc1b43a",
   "metadata": {},
   "outputs": [],
   "source": [
    "def timeseries_evaluation_metrics_func(y_true, y_pred):\n",
    "    def mean_absolute_percentage_error(y_true, y_pred): \n",
    "        y_true, y_pred = np.array(y_true), np.array(y_pred)\n",
    "        return np.mean(np.abs((y_true - y_pred) / y_true)) * 100\n",
    "    print('Evaluation metric results:-')\n",
    "    print(f'MSE is : {metrics.mean_squared_error(y_true, y_pred)}')\n",
    "    print(f'MAE is : {metrics.mean_absolute_error(y_true, y_pred)}')\n",
    "    print(f'RMSE is : {np.sqrt(metrics.mean_squared_error(y_true, y_pred))}')\n",
    "    print(f'MAPE is : {mean_absolute_percentage_error(y_true, y_pred)}')\n",
    "    print(f'R2 is : {metrics.r2_score(y_true, y_pred)}',end='\\n\\n')"
   ]
  },
  {
   "cell_type": "code",
   "execution_count": null,
   "id": "1a957edd",
   "metadata": {},
   "outputs": [],
   "source": [
    "pred_Inverse[0]\n"
   ]
  },
  {
   "cell_type": "code",
   "execution_count": null,
   "id": "0500390f",
   "metadata": {},
   "outputs": [],
   "source": [
    "timeseries_evaluation_metrics_func(validate['new_cases_smoothed'],pred_Inverse[0])"
   ]
  },
  {
   "cell_type": "code",
   "execution_count": null,
   "id": "78d93ca8",
   "metadata": {},
   "outputs": [],
   "source": [
    "plt.figure(figsize=(16,9))\n",
    "plt.plot( list(validate['new_cases_smoothed']))\n",
    "plt.plot( list(pred_Inverse[0]))\n",
    "plt.title(\"Actual vs Predicted\")\n",
    "plt.ylabel(\"new_cases_smoothed\")\n",
    "plt.legend(('Actual','predicted'))\n",
    "plt.show()"
   ]
  },
  {
   "cell_type": "code",
   "execution_count": null,
   "id": "5ecd298e",
   "metadata": {},
   "outputs": [],
   "source": []
  },
  {
   "cell_type": "code",
   "execution_count": null,
   "id": "a5f56167",
   "metadata": {},
   "outputs": [],
   "source": []
  },
  {
   "cell_type": "code",
   "execution_count": null,
   "id": "90166774",
   "metadata": {},
   "outputs": [],
   "source": []
  },
  {
   "cell_type": "code",
   "execution_count": null,
   "id": "b9358be8",
   "metadata": {},
   "outputs": [],
   "source": [
    "#https://machinelearningmastery.com/tune-lstm-hyperparameters-keras-time-series-forecasting/"
   ]
  },
  {
   "cell_type": "code",
   "execution_count": null,
   "id": "11f6ddb2",
   "metadata": {},
   "outputs": [],
   "source": [
    "#https://analyticsindiamag.com/how-to-do-multivariate-time-series-forecasting-using-lstm/\n",
    "# training using this model\n",
    "#https://github.com/christianversloot/machine-learning-articles/blob/main/implementing-relu-sigmoid-and-tanh-in-keras.md"
   ]
  },
  {
   "cell_type": "code",
   "execution_count": null,
   "id": "b2c16d17",
   "metadata": {},
   "outputs": [],
   "source": [
    "#https://github.com/search?l=Python&q=time+series+covid+prediction&type=Repositories"
   ]
  },
  {
   "cell_type": "code",
   "execution_count": null,
   "id": "85671793",
   "metadata": {},
   "outputs": [],
   "source": []
  },
  {
   "cell_type": "code",
   "execution_count": null,
   "id": "82db3308",
   "metadata": {},
   "outputs": [],
   "source": []
  }
 ],
 "metadata": {
  "kernelspec": {
   "display_name": "Python 3",
   "language": "python",
   "name": "python3"
  },
  "language_info": {
   "codemirror_mode": {
    "name": "ipython",
    "version": 3
   },
   "file_extension": ".py",
   "mimetype": "text/x-python",
   "name": "python",
   "nbconvert_exporter": "python",
   "pygments_lexer": "ipython3",
   "version": "3.8.6"
  }
 },
 "nbformat": 4,
 "nbformat_minor": 5
}
